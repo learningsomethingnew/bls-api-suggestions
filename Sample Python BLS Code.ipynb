{
 "cells": [
  {
   "cell_type": "markdown",
   "metadata": {},
   "source": [
    "# Sample BLS Python Code\n",
    "Source = https://www.bls.gov/developers/api_python.htm"
   ]
  },
  {
   "cell_type": "code",
   "execution_count": 1,
   "metadata": {
    "collapsed": true
   },
   "outputs": [],
   "source": [
    "import json\n",
    "import os\n",
    "import prettytable   "
   ]
  },
  {
   "cell_type": "markdown",
   "metadata": {},
   "source": [
    "### API V2 - Multiple Series and Multiple Years\n",
    "Use this code to retrieve data for more than one timeseries and more than one year.\n",
    "\n",
    "Example documentation from: https://www.bls.gov/developers/api_signature_v2.htm#multiple\n",
    "\n",
    "### Example Headers\n",
    "`headers = {'Content-type': 'application/json'}`\n",
    "\n",
    "### Example Payload\n",
    "\n",
    "`{\n",
    "    \"seriesid\":[\"Series1\",..., \"SeriesN\"], \n",
    "    \"startyear\":\"yearX\", \n",
    "    \"endyear\":\"yearY\",\n",
    "    \"catalog\":true|false, \n",
    "    \"calculations\":true|false, \n",
    "    \"annualaverage\":true|false,\n",
    "    \"registrationkey\":\"000f4e000f204473bb565256e8eee73e\" \n",
    "}`\n",
    "\n",
    "### Series ID Format\n",
    "Source: https://www.bls.gov/help/hlpforma.htm#LA\n",
    "\n",
    "Format: 20 characters long\n",
    "\n",
    "Example: LAUCN281070000000003\n",
    "\n",
    "`1-2         LA             Prefix\n",
    "3           U              Seasonal Adjustment Code\n",
    "4-5         CN             Area Type Code\n",
    "6-18        2810700000000  Area Code\n",
    "19-20       03             Measure Code`\n",
    "\n",
    "### Area Type, Area, & Measure Codes Explanations\n",
    "\n",
    "Defined here: https://www.bls.gov/help/def/la.htm#areatype\n",
    "\n"
   ]
  },
  {
   "cell_type": "code",
   "execution_count": null,
   "metadata": {
    "collapsed": true
   },
   "outputs": [],
   "source": [
    "headers = {'Content-type': 'application/json'}\n",
    "data = json.dumps({\"seriesid\": ['CUUR0000SA0','SUUR0000SA0'],\"startyear\":\"1976\", \"endyear\":\"2017\"})\n",
    "p = requests.post('https://api.bls.gov/publicAPI/v2/timeseries/data/', data=data, headers=headers, proxies=proxies)\n",
    "json_data = json.loads(p.text)\n",
    "for series in json_data['Results']['series']:\n",
    "    x=prettytable.PrettyTable([\"series id\",\"year\",\"period\",\"value\",\"footnotes\"])\n",
    "    seriesId = series['seriesID']\n",
    "    for item in series['data']:\n",
    "        year = item['year']\n",
    "        period = item['period']\n",
    "        value = item['value']\n",
    "        footnotes=\"\"\n",
    "        for footnote in item['footnotes']:\n",
    "            if footnote:\n",
    "                footnotes = footnotes + footnote['text'] + ','\n",
    "        if 'M01' <= period <= 'M12':\n",
    "            x.add_row([seriesId,year,period,value,footnotes[0:-1]])\n",
    "    output = open(seriesId + '.txt','w')\n",
    "    output.write (x.get_string())\n",
    "    output.close()"
   ]
  },
  {
   "cell_type": "code",
   "execution_count": null,
   "metadata": {
    "collapsed": true
   },
   "outputs": [],
   "source": []
  }
 ],
 "metadata": {
  "kernelspec": {
   "display_name": "Python 3",
   "language": "python",
   "name": "python3"
  },
  "language_info": {
   "codemirror_mode": {
    "name": "ipython",
    "version": 3
   },
   "file_extension": ".py",
   "mimetype": "text/x-python",
   "name": "python",
   "nbconvert_exporter": "python",
   "pygments_lexer": "ipython3",
   "version": "3.4.4"
  }
 },
 "nbformat": 4,
 "nbformat_minor": 2
}
